{
 "cells": [
  {
   "cell_type": "markdown",
   "metadata": {
    "id": "2J7Q21soxzub"
   },
   "source": [
    "# Python et ensembles probabilistes\n",
    "## Union\n",
    "On rappelle que pour tous événements $A$ et $B$, on a :\n",
    "\n",
    "$P(A\\cup B)=P(A)+P(B)-P(A\\cap B)$\n",
    "\n",
    "On se propose de programmer une fonction `union(a,b,i)` où `a` désigne $P(A)$, `b` désigne $P(B)$ et `i` désigne $P(A\\cap B)$. Complétez la fonction et lancez-la en cliquant sur la flèche à gauche : "
   ]
  },
  {
   "cell_type": "code",
   "execution_count": null,
   "metadata": {
    "id": "tIIqPGsQzPtX"
   },
   "outputs": [],
   "source": [
    "def union(a,b,i):\n",
    "  return ...\n",
    "\n",
    "print(union(0.3, 0.8, 0.2))"
   ]
  },
  {
   "cell_type": "markdown",
   "metadata": {
    "id": "Virgx1jF4IeD"
   },
   "source": [
    "## Intersection\n",
    "On a donc également :\n",
    "\n",
    "$P(A\\cap B)=P(A)+P(B)-P(A\\cup B)$\n",
    "\n",
    "Nous allons alors programmer une fonction qui calcule la probabilité de l'intersection de $A$ et $B$ en fonction de `a`, `b` et `u` qui désigne $P(A\\cup B)$. On peut réutiliser la fonction `union`.\n",
    "\n"
   ]
  },
  {
   "cell_type": "code",
   "execution_count": 3,
   "metadata": {
    "id": "CYsGlCk04XSl"
   },
   "outputs": [],
   "source": [
    "def intersection(a,b,u):\n",
    "  return ..."
   ]
  },
  {
   "cell_type": "markdown",
   "metadata": {
    "id": "19pcnKcE4u15"
   },
   "source": [
    "## Instruction conditionnelle Si ... Alors ... Sinon ...\n",
    "On rappelle que 2 événements sont dits incompatibles s'ils ne peuvent pas se réaliser en même temps. Ainsi, si $A$ et $B$ sont incompatibles : $P(A\\cap B)=0$\n",
    "\n",
    "On souhaite implémenter une fonction `incompatibles(a,b,u)` qui retourne `True` (vrai) si $A$ et $B$ sont incompatibles et `False` (faux) sinon. On note toujours $a=P(A)$, $b=P(B)$ et $u=P(A\\cup B)$.\n",
    "\n",
    "Le bloc en langage naturel :\n",
    "```\n",
    "Si x=y Alors\n",
    "  renvoyer vrai\n",
    "Sinon\n",
    "  renvoyer faux\n",
    "```\n",
    "s'écrit en Python :\n",
    "```\n",
    "if x==y:\n",
    "  return True\n",
    "else :\n",
    "  return False\n",
    "```\n",
    "Implémentez la fonction `incompatibles` :"
   ]
  },
  {
   "cell_type": "code",
   "execution_count": null,
   "metadata": {
    "id": "CqJShDRB7ZJR"
   },
   "outputs": [],
   "source": [
    "def incompatibles(a,b,u):\n",
    "    ...\n",
    "\n",
    "print(incompatibles(0.7, 0.1, 0.9))\n",
    "print(incompatibles(0.4, 0.1, 0.5))\n",
    "print(incompatibles(0.4, 0.1, 0.4))\n"
   ]
  },
  {
   "cell_type": "markdown",
   "metadata": {
    "id": "EZgb43kx8GGk"
   },
   "source": [
    "## Bravo\n",
    "Tu peux maintenant recopier ces scripts dans ta calculatrice dans un nouveau programme Python que tu nommeras `EVENTS`. \n",
    "\n",
    "Astuce : copie-colle le code dans un éditeur Python (comme EduPython), enregistre le fichier sous `EVENTS.py` puis transfère le fichier à l'aide de TI-Connect."
   ]
  },
  {
   "cell_type": "code",
   "execution_count": null,
   "metadata": {},
   "outputs": [],
   "source": [
    "# UNION\n",
    "# a = P(A), b = P(B), i = P(A et B)\n",
    "def union(a,b,i):\n",
    "  return a+b-i\n",
    "# INTERSECTION\n",
    "# a = P(A), b = P(B), u = P(A ou B)\n",
    "def intersection(a,b,u):\n",
    "  return union(a,b,u)\n",
    "# INCOMPATIBLES\n",
    "# a = P(A), b = P(B), u = P(A ou B)\n",
    "def incompatibles(a,b,u):\n",
    "    if intersection(a,b,u)==0:\n",
    "        return True\n",
    "    else\n",
    "        return False\n",
    "print(union(0.3, 0.8, 0.2))\n",
    "print(incompatibles(0.7, 0.1, 0.9))\n",
    "print(incompatibles(0.4, 0.1, 0.5))\n",
    "print(incompatibles(0.4, 0.1, 0.4))\n",
    "    "
   ]
  }
 ],
 "metadata": {
  "colab": {
   "collapsed_sections": [],
   "name": "Union et intersection",
   "provenance": []
  },
  "kernelspec": {
   "display_name": "Python 3",
   "language": "python",
   "name": "python3"
  },
  "language_info": {
   "codemirror_mode": {
    "name": "ipython",
    "version": 3
   },
   "file_extension": ".py",
   "mimetype": "text/x-python",
   "name": "python",
   "nbconvert_exporter": "python",
   "pygments_lexer": "ipython3",
   "version": "3.7.6"
  }
 },
 "nbformat": 4,
 "nbformat_minor": 1
}
