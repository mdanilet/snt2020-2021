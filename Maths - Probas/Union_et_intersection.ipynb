{
  "nbformat": 4,
  "nbformat_minor": 0,
  "metadata": {
    "colab": {
      "name": "Union et intersection",
      "provenance": [],
      "collapsed_sections": []
    },
    "kernelspec": {
      "name": "python3",
      "display_name": "Python 3"
    }
  },
  "cells": [
    {
      "cell_type": "markdown",
      "metadata": {
        "id": "2J7Q21soxzub"
      },
      "source": [
        "# Python et ensembles probabilistes\n",
        "## Union\n",
        "On rappelle que pour tous événements $A$ et $B$, on a :\n",
        "\n",
        "$P(A\\cup B)=P(A)+P(B)-P(A\\cap B)$\n",
        "\n",
        "On se propose de programmer une fonction `union(a,b,i)` où `a` désigne $P(A)$, `b` désigne $P(B)$ et `i` désigne $P(A\\cap B)$. Complétez la fonction et lancez-la en cliquant sur la flèche à gauche : "
      ]
    },
    {
      "cell_type": "code",
      "metadata": {
        "id": "tIIqPGsQzPtX"
      },
      "source": [
        "def union(a,b,i):\n",
        "  return ...\n",
        "\n",
        "print(union(0.3, 0.8, 0.2))"
      ],
      "execution_count": null,
      "outputs": []
    },
    {
      "cell_type": "markdown",
      "metadata": {
        "id": "Virgx1jF4IeD"
      },
      "source": [
        "## Intersection\n",
        "On a donc également :\n",
        "\n",
        "$P(A\\cap B)=P(A)+P(B)-P(A\\cup B)$\n",
        "\n",
        "Nous allons alors programmer une fonction qui calcule la probabilité de l'intersection de $A$ et $B$ en fonction de `a`, `b` et `u` qui désigne $P(A\\cup B)$. On peut réutiliser la fonction `union`.\n",
        "\n"
      ]
    },
    {
      "cell_type": "code",
      "metadata": {
        "id": "CYsGlCk04XSl"
      },
      "source": [
        "def intersection(a,b,u):\n",
        "  return ..."
      ],
      "execution_count": 3,
      "outputs": []
    },
    {
      "cell_type": "markdown",
      "metadata": {
        "id": "19pcnKcE4u15"
      },
      "source": [
        "## Instruction conditionnelle Si ... Alors ... Sinon ...\n",
        "On rappelle que 2 événements sont dits incompatibles s'ils ne peuvent pas se réaliser en même temps. Ainsi, si $A$ et $B$ sont incompatibles : $P(A\\cap B)=0$\n",
        "\n",
        "On souhaite implémenter une fonction `incompatibles(a,b,u)` qui retourne `True` (vrai) si $A$ et $B$ sont incompatibles et `False` (faux) sinon. On note toujours $a=P(A)$, $b=P(B)$ et $u=P(A\\cup B)$.\n",
        "\n",
        "Le bloc en langage naturel :\n",
        "```\n",
        "Si x=y Alors\n",
        "  renvoyer vrai\n",
        "Sinon\n",
        "  renvoyer faux\n",
        "```\n",
        "s'écrit en Python :\n",
        "```\n",
        "If x==y:\n",
        "  return True\n",
        "Else :\n",
        "  return False\n",
        "```\n",
        "Implémentez la fonction `incompatibles` :"
      ]
    },
    {
      "cell_type": "code",
      "metadata": {
        "id": "CqJShDRB7ZJR"
      },
      "source": [
        "def incompatibles(a,b,u):\n",
        "\n",
        "\n",
        "print(incompatibles(0.7, 0.1, 0.9))\n",
        "print(incompatibles(0.4, 0.1, 0.5))\n",
        "print(incompatibles(0.4, 0.1, 0.4))\n"
      ],
      "execution_count": null,
      "outputs": []
    },
    {
      "cell_type": "markdown",
      "metadata": {
        "id": "EZgb43kx8GGk"
      },
      "source": [
        "Tu peux maintenant recopier ces scripts dans ta calculatrice dans un nouveau programme Python que tu nommeras `EVENTS`. Si tu as la TI Premium \"sans Python\" et que tu l'as mise à jour, tu peux la saisir, tu ne pourras pas l'exécuter en revanche sans le module externe."
      ]
    }
  ]
}