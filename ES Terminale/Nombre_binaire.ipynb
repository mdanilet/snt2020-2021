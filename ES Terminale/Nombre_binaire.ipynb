{
  "nbformat": 4,
  "nbformat_minor": 0,
  "metadata": {
    "colab": {
      "name": "Nombre binaire.ipynb",
      "provenance": [],
      "authorship_tag": "ABX9TyNgm1xxr131sMH+6c983gz8",
      "include_colab_link": true
    },
    "kernelspec": {
      "name": "python3",
      "display_name": "Python 3"
    }
  },
  "cells": [
    {
      "cell_type": "markdown",
      "metadata": {
        "id": "view-in-github",
        "colab_type": "text"
      },
      "source": [
        "<a href=\"https://colab.research.google.com/github/mdanilet/snt2020-2021/blob/master/Nombre_binaire.ipynb\" target=\"_parent\"><img src=\"https://colab.research.google.com/assets/colab-badge.svg\" alt=\"Open In Colab\"/></a>"
      ]
    },
    {
      "cell_type": "markdown",
      "metadata": {
        "id": "yQKUFg1rOIMR"
      },
      "source": [
        "## Additionner les termes d'une suite géométrique\r\n",
        "Pour additionner $2^0+2^1+2^2+2^3+...+2^n$, on peut programmer un algorithme...\r\n",
        "\r\n",
        "Complétez le code ci-dessous pour calculer $2^n$. Puis cliquez sur EXECUTER pour l'interpréter.\r\n",
        "\r\n",
        "Aide : en Python, on écrit `3**5` pour $3^5$."
      ]
    },
    {
      "cell_type": "code",
      "metadata": {
        "id": "fWf1AiNKOtLG"
      },
      "source": [
        "def u(n):\r\n",
        "  return ..."
      ],
      "execution_count": 1,
      "outputs": []
    },
    {
      "cell_type": "markdown",
      "metadata": {
        "id": "aTCMEziFOwc_"
      },
      "source": [
        "Maintenant, testez ci-dessous le calcul de $2^5$ :"
      ]
    },
    {
      "cell_type": "code",
      "metadata": {
        "id": "LeOH06ZEO7_s"
      },
      "source": [
        "u(5)"
      ],
      "execution_count": null,
      "outputs": []
    },
    {
      "cell_type": "markdown",
      "metadata": {
        "id": "w9q5O0SmPDO0"
      },
      "source": [
        "On va définir une variable `S` qui va stocker la somme.\r\n",
        "\r\n",
        "Au début, `S=0`.\r\n",
        "\r\n",
        "On lui ajoute ensuite `u(0)`.\r\n",
        "Puis `u(1)`.\r\n",
        "Puis `u(2)`.\r\n",
        "Etc. jusqu'à `u(23)`.\r\n",
        "\r\n",
        "Nous allons donc utiliser la boucle `Pour i entre 0 et 23`.\r\n",
        "\r\n",
        "Complétez le programme :"
      ]
    },
    {
      "cell_type": "code",
      "metadata": {
        "id": "CeqzHdDAPddN"
      },
      "source": [
        "S=0\r\n",
        "for i in range(0,24):\r\n",
        "  S=S+..."
      ],
      "execution_count": 3,
      "outputs": []
    },
    {
      "cell_type": "markdown",
      "metadata": {
        "id": "bCPhQ2mnPv17"
      },
      "source": [
        "Testez le résultat en affichant S :"
      ]
    },
    {
      "cell_type": "code",
      "metadata": {
        "id": "l5FY2zMzPyW7"
      },
      "source": [
        "print(S)"
      ],
      "execution_count": null,
      "outputs": []
    }
  ]
}