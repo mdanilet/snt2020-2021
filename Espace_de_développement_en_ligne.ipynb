{
  "nbformat": 4,
  "nbformat_minor": 0,
  "metadata": {
    "colab": {
      "name": "Espace de développement en ligne",
      "provenance": [],
      "collapsed_sections": []
    },
    "kernelspec": {
      "name": "python3",
      "display_name": "Python 3"
    },
    "language_info": {
      "name": "python"
    }
  },
  "cells": [
    {
      "cell_type": "markdown",
      "metadata": {
        "id": "KwQ-QJa_tAoP"
      },
      "source": [
        "Vous pouvez utiliser cette version de Python en ligne :\n",
        "- Tapez votre code ci-dessous ;\n",
        "- pour l'exécuter, regardez au-dessus de ce texte il y a un bouton **Exécuter** ou **Run** avec une flèche ;\n",
        "- pour le rendre dans le cahier de textes : Menu **File** puis **Download As** et enfin **Python** puis le déposer sur le cahier de textes."
      ]
    },
    {
      "cell_type": "code",
      "metadata": {
        "id": "N4KDuxwIs802"
      },
      "source": [
        ""
      ],
      "execution_count": null,
      "outputs": []
    }
  ]
}