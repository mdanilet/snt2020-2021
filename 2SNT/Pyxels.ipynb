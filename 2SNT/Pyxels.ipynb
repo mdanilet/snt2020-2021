{
  "nbformat": 4,
  "nbformat_minor": 0,
  "metadata": {
    "colab": {
      "name": "Pyxels.ipynb",
      "provenance": [],
      "collapsed_sections": []
    },
    "kernelspec": {
      "name": "python3",
      "display_name": "Python 3"
    },
    "language_info": {
      "name": "python"
    }
  },
  "cells": [
    {
      "cell_type": "markdown",
      "metadata": {
        "id": "YdpE3c2adlwp"
      },
      "source": [
        "**A LA FIN DU TP** : postez votre fichier Python dans le cahier de textes !"
      ]
    },
    {
      "cell_type": "markdown",
      "metadata": {
        "id": "-u0fGL-wbJgT"
      },
      "source": [
        "Exécutez obligatoirement la ligne suivante, elle permet de charger un module utile pour travailler sur les images.\n"
      ]
    },
    {
      "cell_type": "code",
      "metadata": {
        "id": "iOb3PgxJWGlF"
      },
      "source": [
        "pip install pillow"
      ],
      "execution_count": null,
      "outputs": []
    },
    {
      "cell_type": "markdown",
      "metadata": {
        "id": "9f2bV9nxbQrU"
      },
      "source": [
        "# Partie 1\n",
        "Cette partie permet de générer le pixelart de base.\n",
        "\n",
        "Exécutez-la pour voir..."
      ]
    },
    {
      "cell_type": "code",
      "metadata": {
        "id": "xuwDZMPRalbI"
      },
      "source": [
        "##----- Importation des modules -----##\n",
        "from PIL import Image\n",
        "from IPython.display import Image as exp\n",
        "#changez ce paramètre si vous téléchargez le programme et l'exécutez dans un éditeur Python :\n",
        "mode=2 #1 pour exécution dans Python, 2 pour exécution dans Jupyter\n",
        "##----- Variables et constantes -----##\n",
        "largeur_carre=10\n",
        "syscouleur = 'RGB'\n",
        "couleurs=[(255,255,255),(0,0,0),(255,127,38),(255,0,0),(237,150,131),(0,162,232)]\n",
        "pixels  =[[0,0,0,0,0,1,1,1,1,1,1,0,0,0],[0,0,0,0,1,2,2,2,3,3,3,1,0,0],[0,0,0,1,2,2,2,3,3,3,3,3,1,0],[0,0,1,1,2,2,2,3,3,3,3,3,1,0],[0,1,3,3,3,3,3,1,1,1,1,1,1,1],[0,0,1,1,4,1,4,4,1,1,1,1,1,1],[0,0,0,1,4,4,4,4,1,1,1,1,1,1],[0,0,0,1,4,4,4,4,1,4,4,1,1,0],[0,0,0,1,4,1,4,4,4,4,4,1,0,0],[0,0,0,0,1,4,4,4,4,1,1,5,1,1],[0,0,0,0,0,1,1,1,1,1,5,5,5,1],[0,0,0,0,0,0,1,1,4,4,1,5,5,1],[0,0,0,0,0,0,1,1,4,4,1,5,5,1],[0,0,0,0,0,1,2,2,1,1,1,1,1,0],[0,0,0,0,0,1,2,2,2,2,1,0,0,0],[0,0,0,0,0,0,1,1,1,1,0,0,0,0]]\n",
        "largeur = len(pixels[0])\n",
        "hauteur = len(pixels)\n",
        "\n",
        "def carre(abscisse,ordonnee,couleur, image):\n",
        "    for i in range(largeur_carre*abscisse,largeur_carre*(abscisse+1)):\n",
        "        for j in range(largeur_carre*ordonnee,largeur_carre*(ordonnee+1)):\n",
        "            image.putpixel((i,j),couleur)\n",
        "#affiche une image d'après son nom de fichier\n",
        "def affiche(fichier):\n",
        "    pil_img = Image(filename=fichier)\n",
        "    display(pil_img)\n",
        "def afficheI(Im):\n",
        "    global mode\n",
        "    if mode==1:\n",
        "        Im.show()\n",
        "    elif mode==2:\n",
        "        display(Im)\n",
        "##------ Nouvelle image ------##\n",
        "def nouvelle():\n",
        "    global largeur, hauteur, largeur_carre\n",
        "    return Image.new(syscouleur, (largeur_carre*largeur, largeur_carre*hauteur))\n",
        "\n",
        "def pixelart(pixels):\n",
        "    global largeur, hauteur, couleurs\n",
        "    im = nouvelle()\n",
        "    for x in range(largeur):\n",
        "        for y in range(hauteur):\n",
        "            ligne=pixels[y]\n",
        "            carre(x, y, couleurs[ligne[x]], im)\t# Composante R en fonction de la hauteur\n",
        "    im.save('bonhomme.jpg')\n",
        "    afficheI(im)\n",
        "\n",
        "pixelart(pixels)\n"
      ],
      "execution_count": null,
      "outputs": []
    },
    {
      "cell_type": "markdown",
      "metadata": {
        "id": "JIjC5stubn5a"
      },
      "source": [
        "#Partie 2 A vous de jouer\n",
        "Modifiez le code de chaque fonction.\n",
        "\n",
        "Les \"TODO\" permettent de repérer les \"trous\" du poly."
      ]
    },
    {
      "cell_type": "code",
      "metadata": {
        "id": "1xmywUrsa1ZO"
      },
      "source": [
        "#transformation symétrie axiale\n",
        "def symetrie_axiale(pixels):\n",
        "    global largeur, hauteur, couleurs\n",
        "    im = nouvelle()\n",
        "    axe = int(largeur/2)\n",
        "    for x in range(largeur):\n",
        "        for y in range(hauteur):\n",
        "            ligne=pixels[y]\n",
        "            carre(TODO,y,couleurs[ligne[x]],im)\n",
        "    im.save('symetrie_axiale.jpg')\n",
        "    afficheI(im)\n",
        "    \n",
        "symetrie_axiale(pixels)"
      ],
      "execution_count": null,
      "outputs": []
    },
    {
      "cell_type": "code",
      "metadata": {
        "id": "7D8gd8dda4b7"
      },
      "source": [
        "#transformation symétrie centrale\n",
        "def symetrie_centrale(pixels):\n",
        "    global largeur, hauteur, couleurs\n",
        "    im = nouvelle()\n",
        "    centre_x = int(largeur/2)\n",
        "    centre_y = int(TODO/2)\n",
        "    for x in range(largeur):\n",
        "        for y in range(hauteur):\n",
        "            ligne=pixels[y]\n",
        "            carre(TODO,TODO,couleurs[ligne[x]],im)\n",
        "    im.save('symetrie_centrale.jpg')\n",
        "    afficheI(im)\n",
        "    \n",
        "symetrie_centrale(pixels)"
      ],
      "execution_count": null,
      "outputs": []
    },
    {
      "cell_type": "code",
      "metadata": {
        "id": "euqqJ8MDa7aJ"
      },
      "source": [
        "#négatif\n",
        "def negatif(pixels):\n",
        "    global largeur, hauteur, couleurs\n",
        "    im = nouvelle()\n",
        "    for x in range(largeur):\n",
        "        for y in range(hauteur):\n",
        "            ligne=pixels[y]\n",
        "            r,g,b=couleurs[ligne[x]]\n",
        "            carre(x, y, (TODO,TODO,TODO), im)\n",
        "    im.save('negatif.jpg')\n",
        "    afficheI(im)\n",
        "\n",
        "negatif(pixels)"
      ],
      "execution_count": null,
      "outputs": []
    },
    {
      "cell_type": "code",
      "metadata": {
        "id": "n_1WYhpobFxn"
      },
      "source": [
        "#produit\n",
        "def f(a,b):\n",
        "    if a*b<=255:\n",
        "        return int(a*b)\n",
        "    return 255\n",
        "#lumino\n",
        "def lumino(pixels,p):\n",
        "    global largeur, hauteur, couleurs\n",
        "    im = nouvelle()\n",
        "    for x in range(largeur):\n",
        "        for y in range(hauteur):\n",
        "            ligne=pixels[y]\n",
        "            r,g,b=couleurs[ligne[x]]\n",
        "            carre(x, y, (f(r,p),f(g,p),f(b,p)), im)\n",
        "    im.save('lumino.jpg')\n",
        "    afficheI(im)\n",
        "\n",
        "\n",
        "lumino(pixels,2)"
      ],
      "execution_count": null,
      "outputs": []
    },
    {
      "cell_type": "code",
      "metadata": {
        "id": "fgTdiaCla7jA"
      },
      "source": [
        "#jaune\n",
        "def jaune(pixels):\n",
        "    global largeur, hauteur, couleurs\n",
        "    im = nouvelle()\n",
        "    for x in range(largeur):\n",
        "        for y in range(hauteur):\n",
        "            ligne=pixels[y]\n",
        "            r,g,b=couleurs[ligne[x]]\n",
        "            carre(x, y, (255,255,b), im)\n",
        "    im.save('jaune.jpg')\n",
        "    afficheI(im)\n",
        "\n",
        "\n",
        "jaune(pixels)"
      ],
      "execution_count": null,
      "outputs": []
    },
    {
      "cell_type": "code",
      "metadata": {
        "id": "rnOyhStha7rF"
      },
      "source": [
        "#cyan\n",
        "def cyan(pixels):\n",
        "    global largeur, hauteur, couleurs\n",
        "    im = nouvelle()\n",
        "    for x in range(largeur):\n",
        "        for y in range(hauteur):\n",
        "            ligne=pixels[y]\n",
        "            r,g,b=couleurs[ligne[x]]\n",
        "            carre(x, y, (r,255,255), im)\n",
        "    im.save('cyan.jpg')\n",
        "    afficheI(im)\n",
        "\n",
        "\n",
        "cyan(pixels)"
      ],
      "execution_count": null,
      "outputs": []
    },
    {
      "cell_type": "code",
      "metadata": {
        "id": "9S2ga8iTbCi2"
      },
      "source": [
        "#magenta\n",
        "def magenta(pixels):\n",
        "    global largeur, hauteur, couleurs\n",
        "    im = nouvelle()\n",
        "    for x in range(largeur):\n",
        "        for y in range(hauteur):\n",
        "            ligne=pixels[y]\n",
        "            r,g,b=couleurs[ligne[x]]\n",
        "            carre(x, y, (255,g,255), im)\n",
        "    im.save('magenta.jpg')\n",
        "    afficheI(im)\n",
        "\n",
        "\n",
        "magenta(pixels)"
      ],
      "execution_count": null,
      "outputs": []
    }
  ]
}