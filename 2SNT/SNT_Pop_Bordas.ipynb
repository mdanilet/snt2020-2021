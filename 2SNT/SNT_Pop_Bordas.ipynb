{
  "nbformat": 4,
  "nbformat_minor": 0,
  "metadata": {
    "colab": {
      "name": "SNT Pop Bordas",
      "provenance": [],
      "collapsed_sections": []
    },
    "kernelspec": {
      "name": "python3",
      "display_name": "Python 3"
    },
    "language_info": {
      "name": "python"
    }
  },
  "cells": [
    {
      "cell_type": "markdown",
      "metadata": {
        "id": "MY1ERyaUTKdY"
      },
      "source": [
        "Voici le fichier CSV"
      ]
    },
    {
      "cell_type": "code",
      "metadata": {
        "id": "K7mhAy_5TJi6"
      },
      "source": [
        "import urllib.request\n",
        "local_filename, headers = urllib.request.urlretrieve('https://www.mvignal.com/snt/sntpop.csv')\n",
        "f = open(local_filename)\n",
        "#f = open(\"Chap5_Population.csv\", \"r\") \n",
        "entete = f.readline()\n",
        "popEurope = 0\n",
        "ligne = f.readline()\n",
        "while ligne != \"\":\n",
        "    nom,pop,sup = ligne.split(\";\")\n",
        "    popEurope = popEurope + int(pop)\n",
        "    ligne = f.readline()\n",
        "print(\"Population totale :\", popEurope)\n",
        "f.close()"
      ],
      "execution_count": null,
      "outputs": []
    }
  ]
}