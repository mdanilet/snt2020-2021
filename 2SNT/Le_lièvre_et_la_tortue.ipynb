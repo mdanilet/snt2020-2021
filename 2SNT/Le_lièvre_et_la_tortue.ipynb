{
  "nbformat": 4,
  "nbformat_minor": 0,
  "metadata": {
    "colab": {
      "name": "Le lièvre et la tortue",
      "provenance": []
    },
    "kernelspec": {
      "name": "python3",
      "display_name": "Python 3"
    },
    "language_info": {
      "name": "python"
    }
  },
  "cells": [
    {
      "cell_type": "markdown",
      "metadata": {
        "id": "DVXHA3V4RzdH"
      },
      "source": [
        "# Le lièvre et la tortue"
      ]
    },
    {
      "cell_type": "code",
      "metadata": {
        "id": "k7iYwzLDRwYi"
      },
      "source": [
        "from random import *\n",
        "from math import *\n",
        "\n",
        "def unepartie():\n",
        "  for i in range(4):\n",
        "    if randint(1,6)==6:\n",
        "      return False\n",
        "  return True\n",
        "\n",
        "def pls(n):\n",
        "  c=0\n",
        "  for i in range(n):\n",
        "    if unepartie():\n",
        "      c+=1\n",
        "  return c/n\n",
        "\n",
        "def dans_int(n):\n",
        "  return fabs(pls(n)-0.482)<=1/sqrt(n)\n",
        "\n",
        "def prop(n, n_rep):\n",
        "  c=0\n",
        "  for i in range(n_rep):\n",
        "    if dans_int(n):\n",
        "      c+=1\n",
        "  return c/n_rep"
      ],
      "execution_count": 3,
      "outputs": []
    },
    {
      "cell_type": "code",
      "metadata": {
        "colab": {
          "base_uri": "https://localhost:8080/"
        },
        "id": "IU0bIdrFTCzU",
        "outputId": "96fd7e17-a6f7-49bd-cfae-bea589ecdcf0"
      },
      "source": [
        "prop(1000,100)"
      ],
      "execution_count": 9,
      "outputs": [
        {
          "output_type": "execute_result",
          "data": {
            "text/plain": [
              "0.98"
            ]
          },
          "metadata": {
            "tags": []
          },
          "execution_count": 9
        }
      ]
    }
  ]
}