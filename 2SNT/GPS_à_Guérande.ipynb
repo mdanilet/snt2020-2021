{
  "nbformat": 4,
  "nbformat_minor": 0,
  "metadata": {
    "colab": {
      "name": "GPS à Guérande",
      "provenance": [],
      "collapsed_sections": []
    },
    "kernelspec": {
      "name": "python3",
      "display_name": "Python 3"
    },
    "language_info": {
      "name": "python"
    }
  },
  "cells": [
    {
      "cell_type": "markdown",
      "metadata": {
        "id": "LYCHV1jDM7jk"
      },
      "source": [
        "# Créer une carte en Python\n",
        "## La librairie FOLIUM\n",
        "Pour commencer, importons la librairie nécessaire aux cartes : FOLIUM.\n",
        "\n",
        "Cette librairie utilise les coordonnées GPS sous forme décimale pour afficher un point sur la carte.\n",
        "\n",
        "### Cliquez sur EXECUTER pour installer la librairie dans l'environnement actuel. \n",
        "Attention, l'exécution de cette ligne peut être longue."
      ]
    },
    {
      "cell_type": "code",
      "metadata": {
        "id": "CkX2SYDHM47V"
      },
      "source": [
        "conda install -c conda-forge folium"
      ],
      "execution_count": null,
      "outputs": []
    },
    {
      "cell_type": "markdown",
      "metadata": {
        "id": "6VVUaJb-Nc65"
      },
      "source": [
        "## Un exemple de code\n",
        "Voici un code Python qui permet de créer une carte avec un point dessus. Il s'agit d'un lycée ailleurs en France. Folium va générer un fichier HTML, et la librairie IPython va nous permettre de l'afficher ici. \n",
        "### Exécutez le code pour essayer et visualiser."
      ]
    },
    {
      "cell_type": "code",
      "metadata": {
        "id": "ZE3L-DRpNy92"
      },
      "source": [
        "import folium\n",
        "from IPython.display import IFrame\n",
        "c= folium.Map(location=[46.078025, 6.409053],zoom_start=20)\n",
        "folium.Marker([46.078637266899,  6.4111924884134],popup=\"Lycée G Fichet\").add_to(c)\n",
        "c.save('carte1.html')\n",
        "IFrame(src='carte1.html', width=700, height=600)"
      ],
      "execution_count": null,
      "outputs": []
    },
    {
      "cell_type": "markdown",
      "metadata": {
        "id": "8P9jn3bnOHPH"
      },
      "source": [
        "## Et au lycée ?\n",
        "Cherchez les coordonnées GPS du lycée La Mennais. \n",
        "### Modifiez alors le code suivant pour faire apparaître les marqueurs suivants :\n",
        "\n",
        "1. Le lycée\n",
        "2. Le collège\n",
        "3. Athanor"
      ]
    },
    {
      "cell_type": "code",
      "metadata": {
        "id": "o6MXVwCqOVjq"
      },
      "source": [
        "import folium\n",
        "from IPython.display import IFrame\n",
        "c= folium.Map(location=[46.078025, 6.409053],zoom_start=20)\n",
        "folium.Marker([46.078637266899,  6.4111924884134],popup=\"Lycée G Fichet\").add_to(c)\n",
        "c.save('carte2.html')\n",
        "IFrame(src='carte2.html', width=700, height=600)"
      ],
      "execution_count": null,
      "outputs": []
    },
    {
      "cell_type": "markdown",
      "metadata": {
        "id": "0sCxwubAOqlX"
      },
      "source": [
        "**Pour finir, faites une copie d'écran de la carte obtenue et rendez-la dans le cahier de textes Ecole Directe !**"
      ]
    }
  ]
}