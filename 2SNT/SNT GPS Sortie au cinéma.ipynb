{
 "cells": [
  {
   "cell_type": "markdown",
   "id": "c520808b",
   "metadata": {},
   "source": [
    "Vous pouvez utiliser cette version de Python en ligne :\n",
    "- Tapez votre code ci-dessous ;\n",
    "- pour l'exécuter, regardez au-dessus de ce texte il y a un bouton **Exécuter** ou **Run** avec une flèche ;\n",
    "- pour le rendre dans le cahier de textes : Menu **File** puis **Download As** et enfin **Python** puis le déposer sur le cahier de textes.\n",
    "\n",
    "Exécutez les 2 lignes suivantes **OBLIGATOIREMENT** pour pouvoir utiliser les fonctionnalités de la bibliothèque **FOLIUM** et la bibliothèque **PYROUTELIB**. Cela peut prendre du temps"
   ]
  },
  {
   "cell_type": "code",
   "execution_count": null,
   "id": "f03a2ccc",
   "metadata": {},
   "outputs": [],
   "source": [
    "pip install git+https://github.com/python-visualization/folium"
   ]
  },
  {
   "cell_type": "code",
   "execution_count": null,
   "id": "af98ad45",
   "metadata": {},
   "outputs": [],
   "source": [
    "pip install pyroutelib3"
   ]
  },
  {
   "cell_type": "markdown",
   "id": "76b0efb6",
   "metadata": {},
   "source": [
    "# Position\n",
    "- Exécutez le code ci-dessous\n",
    "- Modifiez-le pour situer notre lycée"
   ]
  },
  {
   "cell_type": "code",
   "execution_count": null,
   "id": "6e216ce4",
   "metadata": {},
   "outputs": [],
   "source": [
    "import folium\n",
    "from IPython.display import IFrame\n",
    "c= folium.Map(location=[46.078637266899, 6.4111924884134],zoom_start=15)\n",
    "folium.Marker([46.078637266899,  6.4111924884134],popup=\"Lycée G Fichet\").add_to(c)\n",
    "c.save('carte1.html')\n",
    "IFrame(src='carte1.html', width=700, height=600)"
   ]
  },
  {
   "cell_type": "markdown",
   "id": "d374af09",
   "metadata": {},
   "source": [
    "# Itinéraires\n",
    "Le code ci-dessous permet d'afficher un itinéraire.\n",
    "\n",
    "Les élèves de seconde ont une sortie au Ciné Presqu'Ile.\n",
    "\n",
    "Modifiez le code pour afficher leur itinéraire."
   ]
  },
  {
   "cell_type": "code",
   "execution_count": null,
   "id": "6de359cb",
   "metadata": {},
   "outputs": [],
   "source": [
    "from pyroutelib3 import Router\n",
    "import folium\n",
    "import os\n",
    "\"\"\"\n",
    "créer la carte (fichier HTML + openstreetmap + javascript)\n",
    "Attention réponse assez longue : parfois plusieurs minutes !\n",
    "https://github.com/MKuranowski/pyroutelib3/issues/3\n",
    "\"\"\"\n",
    "c = folium.Map(location=[50.723960,1.614347], zoom_start=15)\n",
    "coor_depart= [ 50.72046, 1.61538] # lycée Branly\n",
    "coor_arrivee= [50.72475, 1.60548] # théatre Monsigny\n",
    "#coor_arrivee= [50.72712, 1.60874] # bug\n",
    "# marquer sur la carte les points de départ et d'arrivée\n",
    "folium.Marker(coor_depart,popup=\"Départ\").add_to(c)\n",
    "folium.Marker(coor_arrivee,popup=\"Arrivée\").add_to(c)\n",
    "print(\"debut routage, veuillez patientez svp ...\")\n",
    "#router = Router(\"car\",\"map.osm\")\n",
    "router = Router(\"foot\")\n",
    "depart = router.findNode(coor_depart[0], coor_depart[1])\n",
    "print(depart)\n",
    "arrivee = router.findNode(coor_arrivee[0], coor_arrivee[1])\n",
    "print(arrivee)\n",
    "routeLatLons=[coor_depart,coor_arrivee]\n",
    "status, route = router.doRoute(depart, arrivee)\n",
    "if status == 'success':\n",
    "    print(\"route trouvée\")\n",
    "    routeLatLons = list(map(router.nodeLatLon, route))\n",
    "else:\n",
    "    print(\"route pas trouvée !\")\n",
    "print(routeLatLons)\n",
    "for coord in routeLatLons:\n",
    "    coord=list(coord)\n",
    "    folium.CircleMarker(coord,radius = 3,fill=True, color='red' ).add_to(c)\n",
    "folium.PolyLine(routeLatLons, color=\"blue\", weight=2.5, opacity=1).add_to(c)\n",
    "print(\"Le fichier HTML/CARTE est disponible\")\n",
    "fichier_carte = 'routage_branly-monsigny.html'\n",
    "c.save(fichier_carte)\n",
    "IFrame(src=fichier_carte, width=700, height=600)"
   ]
  },
  {
   "cell_type": "code",
   "execution_count": null,
   "id": "70a01b6a",
   "metadata": {},
   "outputs": [],
   "source": []
  }
 ],
 "metadata": {
  "kernelspec": {
   "display_name": "Python 3 (ipykernel)",
   "language": "python",
   "name": "python3"
  },
  "language_info": {
   "codemirror_mode": {
    "name": "ipython",
    "version": 3
   },
   "file_extension": ".py",
   "mimetype": "text/x-python",
   "name": "python",
   "nbconvert_exporter": "python",
   "pygments_lexer": "ipython3",
   "version": "3.7.10"
  }
 },
 "nbformat": 4,
 "nbformat_minor": 5
}
