{
 "cells": [
  {
   "cell_type": "markdown",
   "id": "de4553d6",
   "metadata": {},
   "source": [
    "Vous pouvez utiliser cette version de Python en ligne :\n",
    "- Tapez votre code ci-dessous ;\n",
    "- pour l'exécuter, regardez au-dessus de ce texte il y a un bouton **Exécuter** ou **Run** avec une flèche ;\n",
    "- pour le rendre dans le cahier de textes : Menu **File** puis **Download As** et enfin **Python** puis le déposer sur le cahier de textes.\n",
    "\n",
    "Exécutez les 2 lignes suivantes **OBLIGATOIREMENT** pour pouvoir utiliser les fonctionnalités de la bibliothèque **FOLIUM** et la bibliothèque **PYROUTELIB**. Cela peut prendre du temps"
   ]
  },
  {
   "cell_type": "code",
   "execution_count": 1,
   "id": "6b0d0580",
   "metadata": {},
   "outputs": [
    {
     "name": "stdout",
     "output_type": "stream",
     "text": [
      "Collecting git+https://github.com/python-visualization/folium\n",
      "  Cloning https://github.com/python-visualization/folium to /tmp/pip-req-build-1a1zn9k3\n",
      "  Running command git clone -q https://github.com/python-visualization/folium /tmp/pip-req-build-1a1zn9k3\n",
      "  Resolved https://github.com/python-visualization/folium to commit 67aab11039cd990d73fdf14566380286835ff84b\n",
      "  Installing build dependencies ... \u001b[?25ldone\n",
      "\u001b[?25h  Getting requirements to build wheel ... \u001b[?25ldone\n",
      "\u001b[?25h    Preparing wheel metadata ... \u001b[?25ldone\n",
      "\u001b[?25hRequirement already satisfied: numpy in /srv/conda/envs/notebook/lib/python3.7/site-packages (from folium==0.12.1.dev50+g67aab11) (1.21.5)\n",
      "Requirement already satisfied: jinja2>=2.9 in /srv/conda/envs/notebook/lib/python3.7/site-packages (from folium==0.12.1.dev50+g67aab11) (3.0.1)\n",
      "Requirement already satisfied: branca>=0.3.0 in /srv/conda/envs/notebook/lib/python3.7/site-packages (from folium==0.12.1.dev50+g67aab11) (0.4.2)\n",
      "Requirement already satisfied: requests in /srv/conda/envs/notebook/lib/python3.7/site-packages (from folium==0.12.1.dev50+g67aab11) (2.26.0)\n",
      "Requirement already satisfied: MarkupSafe>=2.0 in /srv/conda/envs/notebook/lib/python3.7/site-packages (from jinja2>=2.9->folium==0.12.1.dev50+g67aab11) (2.0.1)\n",
      "Requirement already satisfied: urllib3<1.27,>=1.21.1 in /srv/conda/envs/notebook/lib/python3.7/site-packages (from requests->folium==0.12.1.dev50+g67aab11) (1.26.6)\n",
      "Requirement already satisfied: idna<4,>=2.5 in /srv/conda/envs/notebook/lib/python3.7/site-packages (from requests->folium==0.12.1.dev50+g67aab11) (3.1)\n",
      "Requirement already satisfied: certifi>=2017.4.17 in /srv/conda/envs/notebook/lib/python3.7/site-packages (from requests->folium==0.12.1.dev50+g67aab11) (2021.5.30)\n",
      "Requirement already satisfied: charset-normalizer~=2.0.0 in /srv/conda/envs/notebook/lib/python3.7/site-packages (from requests->folium==0.12.1.dev50+g67aab11) (2.0.0)\n",
      "Note: you may need to restart the kernel to use updated packages.\n"
     ]
    }
   ],
   "source": [
    "pip install git+https://github.com/python-visualization/folium"
   ]
  },
  {
   "cell_type": "code",
   "execution_count": 12,
   "id": "6a37265d",
   "metadata": {},
   "outputs": [
    {
     "name": "stdout",
     "output_type": "stream",
     "text": [
      "Collecting pyroutelib3\n",
      "  Downloading pyroutelib3-1.7.1-py3-none-any.whl (41 kB)\n",
      "\u001b[K     |████████████████████████████████| 41 kB 274 kB/s eta 0:00:01\n",
      "\u001b[?25hRequirement already satisfied: typing-extensions in /srv/conda/envs/notebook/lib/python3.7/site-packages (from pyroutelib3) (3.10.0.0)\n",
      "Collecting osmiter>=1.1\n",
      "  Downloading osmiter-1.2.0-py3-none-any.whl (19 kB)\n",
      "Collecting protobuf\n",
      "  Downloading protobuf-3.19.4-cp37-cp37m-manylinux_2_17_x86_64.manylinux2014_x86_64.whl (1.1 MB)\n",
      "\u001b[K     |████████████████████████████████| 1.1 MB 43.9 MB/s eta 0:00:01\n",
      "\u001b[?25hCollecting iso8601\n",
      "  Downloading iso8601-1.0.2-py3-none-any.whl (9.7 kB)\n",
      "Installing collected packages: protobuf, iso8601, osmiter, pyroutelib3\n",
      "Successfully installed iso8601-1.0.2 osmiter-1.2.0 protobuf-3.19.4 pyroutelib3-1.7.1\n",
      "Note: you may need to restart the kernel to use updated packages.\n"
     ]
    }
   ],
   "source": [
    "pip install pyroutelib3"
   ]
  },
  {
   "cell_type": "markdown",
   "id": "5daeef23",
   "metadata": {},
   "source": [
    "- Exécutez le code ci-dessous\n",
    "- Modifiez-le pour situer notre lycée"
   ]
  },
  {
   "cell_type": "code",
   "execution_count": 6,
   "id": "f8e913a6",
   "metadata": {},
   "outputs": [
    {
     "data": {
      "text/html": [
       "\n",
       "        <iframe\n",
       "            width=\"700\"\n",
       "            height=\"600\"\n",
       "            src=\"carte1.html\"\n",
       "            frameborder=\"0\"\n",
       "            allowfullscreen\n",
       "        ></iframe>\n",
       "        "
      ],
      "text/plain": [
       "<IPython.lib.display.IFrame at 0x7fb7b8c8dd10>"
      ]
     },
     "execution_count": 6,
     "metadata": {},
     "output_type": "execute_result"
    }
   ],
   "source": [
    "import folium\n",
    "from IPython.display import IFrame\n",
    "c= folium.Map(location=[46.078637266899, 6.4111924884134],zoom_start=15)\n",
    "folium.Marker([46.078637266899,  6.4111924884134],popup=\"Lycée G Fichet\").add_to(c)\n",
    "c.save('carte1.html')\n",
    "IFrame(src='carte1.html', width=700, height=600)"
   ]
  },
  {
   "cell_type": "markdown",
   "id": "f31c71fd",
   "metadata": {},
   "source": [
    "# Itinéraires\n",
    "Le code ci-dessous permet d'afficher un itinéraire.\n",
    "\n",
    "Les élèves de seconde ont une sortie au Ciné Presqu'Ile.\n",
    "\n",
    "Modifier le code pour afficher leur itinéraire."
   ]
  },
  {
   "cell_type": "code",
   "execution_count": 14,
   "id": "ad7953a5",
   "metadata": {},
   "outputs": [
    {
     "name": "stdout",
     "output_type": "stream",
     "text": [
      "debut routage, veuillez patientez svp ...\n",
      "7248756148\n",
      "7231406910\n",
      "route trouvée\n",
      "[(50.7203359, 1.6153351), (50.7200611, 1.6152456), (50.7199832, 1.6152009), (50.7199197, 1.6151614), (50.7198578, 1.6151243), (50.7198394, 1.6150746), (50.7198308, 1.6150343), (50.7198224, 1.6149793), (50.7198205, 1.6149262), (50.7198246, 1.6148794), (50.7198311, 1.6148363), (50.7198428, 1.6147844), (50.7198588, 1.6147314), (50.7199563, 1.6144747), (50.7199822, 1.6144163), (50.720057, 1.6142501), (50.720157, 1.6140198), (50.7203784, 1.6135262), (50.7204284, 1.6134146), (50.7204684, 1.6133255), (50.7205174, 1.6132163), (50.7205638, 1.6131128), (50.7206642, 1.6128889), (50.7207485, 1.612701), (50.7208469, 1.6124717), (50.7208798, 1.6123997), (50.7212257, 1.6116309), (50.7212796, 1.6115106), (50.7215026, 1.6109979), (50.7216321, 1.6107036), (50.7216601, 1.6106317), (50.7216784, 1.6105687), (50.7216953, 1.6104921), (50.7218026, 1.6098217), (50.7218185, 1.609726), (50.7219007, 1.6092284), (50.7219209, 1.6090989), (50.7219326, 1.6089988), (50.7219416, 1.6088887), (50.7219475, 1.6087996), (50.7219509, 1.6087309), (50.7219556, 1.6086374), (50.7219595, 1.6085633), (50.7219961, 1.6077627), (50.722008, 1.6075034), (50.722019, 1.607341), (50.7220398, 1.6072319), (50.7220462, 1.6072075), (50.722069, 1.6071124), (50.7220906, 1.607025), (50.7221169, 1.6069296), (50.7221478, 1.6068299), (50.7221774, 1.6067395), (50.7221805, 1.606731), (50.7222007, 1.6066746), (50.7222304, 1.606592), (50.7222848, 1.6064504), (50.7223265, 1.6063507), (50.722367, 1.6062625), (50.7224119, 1.6061769), (50.7224619, 1.6062382), (50.7225721, 1.6063867), (50.7226727, 1.6065431), (50.7228168, 1.606788), (50.7228292, 1.6068182), (50.722863, 1.606768), (50.722883, 1.606742), (50.72292, 1.606693), (50.722946, 1.606658), (50.722986, 1.606606), (50.723029, 1.606548), (50.723129, 1.606417), (50.723184, 1.606345), (50.723246, 1.6062474), (50.7232771, 1.6063021), (50.7233302, 1.6062295), (50.7233403, 1.6062166), (50.7238311, 1.6055874), (50.7238894, 1.6055155), (50.7244496, 1.6048065), (50.7246414, 1.6052047), (50.7247639, 1.605457), (50.7247405, 1.6054959)]\n",
      "Le fichier HTML/CARTE est disponible\n"
     ]
    },
    {
     "data": {
      "text/html": [
       "\n",
       "        <iframe\n",
       "            width=\"700\"\n",
       "            height=\"600\"\n",
       "            src=\"routage_branly-monsigny.html\"\n",
       "            frameborder=\"0\"\n",
       "            allowfullscreen\n",
       "        ></iframe>\n",
       "        "
      ],
      "text/plain": [
       "<IPython.lib.display.IFrame at 0x7fb7b80b34d0>"
      ]
     },
     "execution_count": 14,
     "metadata": {},
     "output_type": "execute_result"
    }
   ],
   "source": [
    "from pyroutelib3 import Router\n",
    "import folium\n",
    "import os\n",
    "\"\"\"\n",
    "créer la carte (fichier HTML + openstreetmap + javascript)\n",
    "Attention réponse assez longue : parfois plusieurs minutes !\n",
    "https://github.com/MKuranowski/pyroutelib3/issues/3\n",
    "\"\"\"\n",
    "c = folium.Map(location=[50.723960,1.614347], zoom_start=15)\n",
    "coor_depart= [ 50.72046, 1.61538] # lycée Branly\n",
    "coor_arrivee= [50.72475, 1.60548] # théatre Monsigny\n",
    "#coor_arrivee= [50.72712, 1.60874] # bug\n",
    "# marquer sur la carte les points de départ et d'arrivée\n",
    "folium.Marker(coor_depart,popup=\"Départ\").add_to(c)\n",
    "folium.Marker(coor_arrivee,popup=\"Arrivée\").add_to(c)\n",
    "print(\"debut routage, veuillez patientez svp ...\")\n",
    "#router = Router(\"car\",\"map.osm\")\n",
    "router = Router(\"foot\")\n",
    "depart = router.findNode(coor_depart[0], coor_depart[1])\n",
    "print(depart)\n",
    "arrivee = router.findNode(coor_arrivee[0], coor_arrivee[1])\n",
    "print(arrivee)\n",
    "routeLatLons=[coor_depart,coor_arrivee]\n",
    "status, route = router.doRoute(depart, arrivee)\n",
    "if status == 'success':\n",
    "    print(\"route trouvée\")\n",
    "    routeLatLons = list(map(router.nodeLatLon, route))\n",
    "else:\n",
    "    print(\"route pas trouvée !\")\n",
    "print(routeLatLons)\n",
    "for coord in routeLatLons:\n",
    "    coord=list(coord)\n",
    "    folium.CircleMarker(coord,radius = 3,fill=True, color='red' ).add_to(c)\n",
    "folium.PolyLine(routeLatLons, color=\"blue\", weight=2.5, opacity=1).add_to(c)\n",
    "print(\"Le fichier HTML/CARTE est disponible\")\n",
    "fichier_carte = 'routage_branly-monsigny.html'\n",
    "c.save(fichier_carte)\n",
    "IFrame(src=fichier_carte, width=700, height=600)"
   ]
  },
  {
   "cell_type": "code",
   "execution_count": null,
   "id": "99b6125f",
   "metadata": {},
   "outputs": [],
   "source": []
  }
 ],
 "metadata": {
  "kernelspec": {
   "display_name": "Python 3 (ipykernel)",
   "language": "python",
   "name": "python3"
  },
  "language_info": {
   "codemirror_mode": {
    "name": "ipython",
    "version": 3
   },
   "file_extension": ".py",
   "mimetype": "text/x-python",
   "name": "python",
   "nbconvert_exporter": "python",
   "pygments_lexer": "ipython3",
   "version": "3.7.10"
  }
 },
 "nbformat": 4,
 "nbformat_minor": 5
}
