{
  "nbformat": 4,
  "nbformat_minor": 0,
  "metadata": {
    "colab": {
      "name": "Le lièvre et la tortue - partie 2",
      "provenance": [],
      "collapsed_sections": []
    },
    "kernelspec": {
      "name": "python3",
      "display_name": "Python 3"
    },
    "language_info": {
      "name": "python"
    }
  },
  "cells": [
    {
      "cell_type": "markdown",
      "metadata": {
        "id": "DVXHA3V4RzdH"
      },
      "source": [
        "# Le lièvre et la tortue - partie 2"
      ]
    },
    {
      "cell_type": "markdown",
      "metadata": {
        "id": "j6r7DK1kFoU3"
      },
      "source": [
        "Voici le code de la séance 1 si vous ne l'avez pas sur vous. Maintenant, implémentez, comme demandé dans le Genially, les autres fonctions."
      ]
    },
    {
      "cell_type": "code",
      "metadata": {
        "id": "k7iYwzLDRwYi"
      },
      "source": [
        "from random import *\n",
        "from math import *\n",
        "\n",
        "def unepartie():\n",
        "  for i in range(4):\n",
        "    if randint(1,6)==6:\n",
        "      return False\n",
        "  return True\n",
        "\n",
        "def pls(n):\n",
        "  c=0\n",
        "  for i in range(n):\n",
        "    if unepartie():\n",
        "      c+=1\n",
        "  return c/n\n"
      ],
      "execution_count": null,
      "outputs": []
    }
  ]
}