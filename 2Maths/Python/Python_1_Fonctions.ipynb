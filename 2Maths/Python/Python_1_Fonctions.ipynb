{
  "nbformat": 4,
  "nbformat_minor": 0,
  "metadata": {
    "colab": {
      "name": "Python 1 Fonctions.ipynb",
      "provenance": [],
      "collapsed_sections": []
    },
    "kernelspec": {
      "name": "python3",
      "display_name": "Python 3"
    },
    "language_info": {
      "name": "python"
    }
  },
  "cells": [
    {
      "cell_type": "markdown",
      "metadata": {
        "id": "qOBVp0BSjvO1"
      },
      "source": [
        "### **A la fin du TP, enregistrez ce script grâce à la fonction \"fichier exporter comme script exécutable\" ou \"file export as executable script\". Pour exécuter un script, utilisez la flèche ou RUN ou EXECUTER**\n",
        "\n",
        "\n",
        "\n",
        "---\n",
        "\n"
      ]
    },
    {
      "cell_type": "markdown",
      "metadata": {
        "id": "YQ6mWMFOjSSg"
      },
      "source": [
        "# Fonctions\n",
        "Pour clarifier le code et le découper en blocs plus compréhensibles, on peut utiliser des fonctions en Python.\n",
        "\n",
        "En Scratch, vous pouviez créer des blocs aussi :"
      ]
    },
    {
      "cell_type": "markdown",
      "metadata": {
        "id": "OIU6ZUL19r0G"
      },
      "source": [
        "![image.png](data:image/png;base64,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)"
      ]
    },
    {
      "cell_type": "markdown",
      "metadata": {
        "id": "t2IZn_Od9sBc"
      },
      "source": [
        "## Fonction `randint`\n",
        "Dans un jeu de combat, on souhaite calculer les dégâts infligés par une massue sur les ennemis du joueur. Pour apporter une certaine part de hasard dans ces coups, les dégâts infligés correspondent à un nombre entier compris entre 1 et 10."
      ]
    },
    {
      "cell_type": "code",
      "metadata": {
        "id": "L8XcJFUskSgP"
      },
      "source": [
        "from random import randint # Import de la fonction randint du module random\n",
        "\n",
        "def calcul_degat() : # Définition de la fonction calcul_degat(), l'ensemble des instructions qui la constituent est affectée d'une indentation\n",
        "  \"\"\"La fonction calcul_degat renvoie un nombre entier aléatoire compris entre 1 et 10\"\"\" # Documentation dont la syntaxe est spécifique à la présentation du rôle de la fonction\n",
        "  degat = randint(1, 10) # Tirage aléatoire entre 1 et 10\n",
        "  return degat # Renvoi de la valeur de la variable degat grâce à l'instruction return\n",
        "\n",
        "print(calcul_degat()) # Affichage de la valeur retournée pour la fonction calcul_degat()"
      ],
      "execution_count": null,
      "outputs": []
    },
    {
      "cell_type": "markdown",
      "metadata": {
        "id": "2Y8IqP8UkZls"
      },
      "source": [
        "Modifiez le code ci-dessus pour que les points de vie soient affectés. Vous prévoierez un affichage des nouveaux points de vie.\n",
        "\n",
        "On peut demander de l'aide sur une fonctin documentée en tapant : `help(nom_fonction)`. Demandez de l'aide pour la fonction `print` puis sur la fonction `calcul_degat`."
      ]
    },
    {
      "cell_type": "code",
      "metadata": {
        "id": "WvrztHZrlTZw"
      },
      "source": [
        ""
      ],
      "execution_count": null,
      "outputs": []
    },
    {
      "cell_type": "markdown",
      "metadata": {
        "id": "meJ9vZl6lnEQ"
      },
      "source": [
        "On modifie la fonction `calcul_degat()` afin de tenir compte du minimum et du maximum de dégâts que peut infliger une arme. On considère cette fois-ci que la massue doit au minimum réduire de 5 points les points de vie totaux d’un personnage, mais elle ne peut diminuer de plus de 20 points ce solde total à chaque coup. Modifiez la fonction `calcul_degat` en conséquence :"
      ]
    },
    {
      "cell_type": "code",
      "metadata": {
        "id": "8Ip6KkTylzPK"
      },
      "source": [
        "from random import randint\n",
        "\n",
        "def calcul_degat(min, max) : # Nouvelle définition de la fonction nécessitant deux arguments\n",
        "  \"\"\"La fonction calcul_degat renvoie un nombre entier aléatoire compris entre min et max\"\"\"\n",
        "  degat = randint(1,10) # Tirage aléatoire entre les arguments min et max\n",
        "  return degat # Renvoi de la valeur de la variable degat\n",
        "print(calcul_degat(5, 20))"
      ],
      "execution_count": null,
      "outputs": []
    },
    {
      "cell_type": "markdown",
      "metadata": {
        "id": "yjhzt1u_mLlF"
      },
      "source": [
        "Ecrire un script qui initialise les points de vie à 80, inflige un dégât entre 5 et 20 points de vie, et qui affiche le nombre de points de vie restants."
      ]
    },
    {
      "cell_type": "code",
      "metadata": {
        "id": "35sqixIvmKeg"
      },
      "source": [
        ""
      ],
      "execution_count": null,
      "outputs": []
    }
  ]
}