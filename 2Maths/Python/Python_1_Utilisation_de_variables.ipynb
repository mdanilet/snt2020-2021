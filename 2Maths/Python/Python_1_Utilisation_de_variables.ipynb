{
  "nbformat": 4,
  "nbformat_minor": 0,
  "metadata": {
    "colab": {
      "name": "Python 1 Utilisation de variables.ipynb",
      "provenance": [],
      "collapsed_sections": [],
      "include_colab_link": true
    },
    "kernelspec": {
      "name": "python3",
      "display_name": "Python 3"
    },
    "language_info": {
      "name": "python"
    }
  },
  "cells": [
    {
      "cell_type": "markdown",
      "metadata": {
        "id": "view-in-github",
        "colab_type": "text"
      },
      "source": [
        "<a href=\"https://colab.research.google.com/github/mdanilet/snt2020-2021/blob/master/2Maths/Python/Python_1_Utilisation_de_variables.ipynb\" target=\"_parent\"><img src=\"https://colab.research.google.com/assets/colab-badge.svg\" alt=\"Open In Colab\"/></a>"
      ]
    },
    {
      "cell_type": "markdown",
      "metadata": {
        "id": "qOBVp0BSjvO1"
      },
      "source": [
        "### **A la fin du TP, enregistrez ce script grâce à la fonction \"fichier exporter comme script exécutable\" ou \"file export as executable script\". Pour exécuter un script, utilisez la flèche ou RUN ou EXECUTER**\n",
        "\n",
        "\n",
        "---\n",
        "\n"
      ]
    },
    {
      "cell_type": "markdown",
      "metadata": {
        "id": "_dcvotm8i8vn"
      },
      "source": [
        "# Utilisation de variables\n",
        "On tape les instructions suivantes dans la console Python :\n"
      ]
    },
    {
      "cell_type": "code",
      "metadata": {
        "id": "p8FNUJCKi8Qa"
      },
      "source": [
        "points_de_vie = 50 # La variable points_de_vie prend pour valeur 50\n",
        "points_de_vie = points_de_vie - 20 # La variable points_de_vie prend pour valeur le résultat de l'opération points_de_vie - 20\n",
        "\n",
        "print(points_de_vie)"
      ],
      "execution_count": null,
      "outputs": []
    },
    {
      "cell_type": "markdown",
      "metadata": {
        "id": "_WkjNU4HjHtN"
      },
      "source": [
        "•\tExécutez le script pour voir ce qu’il fait\n",
        "\n",
        "•\tModifiez le script pour que l’utilisateur ait 80 points de vie au départ puis il en perd 1\n",
        "\n",
        "•\tAjoutez une variable `points_xp` qui vaut 550 au début et qui est augmentée de 200 XP.\n"
      ]
    }
  ]
}