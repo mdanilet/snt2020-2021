{
  "nbformat": 4,
  "nbformat_minor": 0,
  "metadata": {
    "colab": {
      "name": "Lieu secret",
      "provenance": [],
      "collapsed_sections": []
    },
    "kernelspec": {
      "name": "python3",
      "display_name": "Python 3"
    },
    "language_info": {
      "name": "python"
    }
  },
  "cells": [
    {
      "cell_type": "markdown",
      "metadata": {
        "id": "EWkNWcEdImlj"
      },
      "source": [
        "Commence par exécuter cette ligne : c'est long et ça se termine par :\n",
        "\n",
        "`Note: you may need to restart the kernel to use updated packages.`\n"
      ]
    },
    {
      "cell_type": "code",
      "metadata": {
        "id": "7FNl8SaEIiBE"
      },
      "source": [
        "conda install -c conda-forge folium"
      ],
      "execution_count": null,
      "outputs": []
    },
    {
      "cell_type": "markdown",
      "metadata": {
        "id": "RkyuMPlMI_Ch"
      },
      "source": [
        "Le code ci-dessous affiche une carte et un point mais malheureusement, il y a plusieurs bugs. Corrige-le puis retrouve le code postal du lieu"
      ]
    },
    {
      "cell_type": "code",
      "metadata": {
        "id": "y7kyO-bHJNLU"
      },
      "source": [
        "import folium\n",
        "from IPython.display import IFrame\n",
        "lat=16,3179827\n",
        "long=0,3711008\n",
        "c= folium.Map(location=[lat, long],zoom_start=20)\n",
        "folium.Marker([3lat, 5*long],popup=\"Point mystère\").add_to(c)\n",
        "c.save('carte1.html')\n",
        "IFrame(src='carte1.html', width=700, height=600)"
      ],
      "execution_count": null,
      "outputs": []
    }
  ]
}