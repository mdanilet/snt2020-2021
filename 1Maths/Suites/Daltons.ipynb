{
  "nbformat": 4,
  "nbformat_minor": 0,
  "metadata": {
    "colab": {
      "name": "Daltons.ipynb",
      "provenance": [],
      "collapsed_sections": []
    },
    "kernelspec": {
      "name": "python3",
      "display_name": "Python 3"
    },
    "language_info": {
      "name": "python"
    }
  },
  "cells": [
    {
      "cell_type": "markdown",
      "metadata": {
        "id": "UqI2fBuP2_8e"
      },
      "source": [
        "En Python, on peut utiliser des LISTES.\n",
        "\n",
        "Dans le programme ci-dessous, on utilise :\n",
        "\n",
        "\n",
        "\n",
        "*   `D=[D1,D2,D3]` : liste contenant les éléments D1, D2 et D3\n",
        "*   `L.append(elt)` : ajoute l'élément elt à la liste L\n",
        "*   `L[5]` : renvoie l'élément en 6ème position (les positions commencent à zéro)\n",
        "\n",
        "On utilise aussi la librairie `matplotlib` :\n",
        "\n",
        "\n",
        "*   `plt.plot(x_values, y_values, c='coral')` : trace couleur corail le segment dont les extrémités sont renseignées dans les 2 premiers paramètres.\n",
        "*   `plt.scatter(x,y)` : trace un nuage de points à partir des couples (x;y) donnés\n",
        "*   `plt.show()` : affiche le graphe\n",
        "\n",
        "\n"
      ]
    },
    {
      "cell_type": "markdown",
      "metadata": {
        "id": "CzSPzzwq2v8A"
      },
      "source": [
        "Exécutez ce code, modifiez-le éventuellement. A quoi cela vous fait-il penser ?"
      ]
    },
    {
      "cell_type": "code",
      "metadata": {
        "id": "WIFc3_Nb2tCB"
      },
      "source": [
        "from math import sqrt\n",
        "from random import *\n",
        "import matplotlib.pyplot as plt\n",
        "#Positions des 3 Dalton = triangle équilatéral\n",
        "D1=(0,0)\n",
        "D2=(1,0)\n",
        "D3=(0.5,sqrt(2)/2)\n",
        "#tableau intégrant les Dalton\n",
        "D=[D1,D2,D3]\n",
        "x,y=[],[]\n",
        "\n",
        "\n",
        "#décrit un mouvement\n",
        "def mouvement(depart, cible):\n",
        "    return [(depart[0]+cible[0])/2,(depart[1]+cible[1])/2]\n",
        "#inscrit une position dans le graphe\n",
        "def ecrit(pos):\n",
        "    global x,y\n",
        "    x.append(pos[0])\n",
        "    y.append(pos[1])\n",
        "    return x,y\n",
        "#trace un segment entre 2 points\n",
        "def segment(point1,point2):\n",
        "    x_values = [point1[0], point2[0]]\n",
        "    y_values = [point1[1], point2[1]]\n",
        "    plt.plot(x_values, y_values, c='coral')\n",
        "#effectue le tirage aléatoire\n",
        "def tirage(pos):\n",
        "    global x,y\n",
        "    dalton=randint(0,2)\n",
        "    pos=mouvement(pos,D[dalton])\n",
        "    x,y=ecrit(pos)\n",
        "    return pos\n",
        "#effectue tous les tirages aléatoires\n",
        "def tirages(n):\n",
        "    pos=[0.5,sqrt(2)/4]\n",
        "    ecrit(pos)\n",
        "    for i in range(n):\n",
        "        pos=tirage(pos)\n",
        "    return x,y\n",
        "\n",
        "# trace le graphe après avoir demandé les calculs\n",
        "segment(D1,D2)\n",
        "segment(D1,D3)\n",
        "segment(D3,D2)\n",
        "x,y=tirages(100)\n",
        "plt.scatter(x,y)\n",
        "plt.show()\n",
        "\n",
        "\n"
      ],
      "execution_count": null,
      "outputs": []
    },
    {
      "cell_type": "code",
      "metadata": {
        "id": "9MfDr-su2uva"
      },
      "source": [
        ""
      ],
      "execution_count": null,
      "outputs": []
    }
  ]
}