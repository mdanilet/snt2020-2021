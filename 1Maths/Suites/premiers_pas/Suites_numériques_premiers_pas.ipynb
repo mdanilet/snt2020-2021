{
  "nbformat": 4,
  "nbformat_minor": 0,
  "metadata": {
    "colab": {
      "name": "Suites numériques premiers pas.ipynb",
      "provenance": [],
      "authorship_tag": "ABX9TyNLLoqLpNW22lyH1qadEpAe",
      "include_colab_link": true
    },
    "kernelspec": {
      "name": "python3",
      "display_name": "Python 3"
    },
    "language_info": {
      "name": "python"
    }
  },
  "cells": [
    {
      "cell_type": "markdown",
      "metadata": {
        "id": "view-in-github",
        "colab_type": "text"
      },
      "source": [
        "<a href=\"https://colab.research.google.com/github/mdanilet/snt2020-2021/blob/master/1Maths/Suites/premiers_pas/Suites_num%C3%A9riques_premiers_pas.ipynb\" target=\"_parent\"><img src=\"https://colab.research.google.com/assets/colab-badge.svg\" alt=\"Open In Colab\"/></a>"
      ]
    },
    {
      "cell_type": "markdown",
      "metadata": {
        "id": "2W_D8GX_OeI6"
      },
      "source": [
        "# Calculer un terme\n",
        "En Python, on peut tout-à-fait demander à calculer des termes d'une suite.\n",
        "\n",
        "\n",
        "\n",
        "> *Exemple 1* On considère la suite définie pour tout entier naturel $n$ par $u_n=2n^2-n+1$. Lancer le script suivant qui affiche $u_5$"
      ]
    },
    {
      "cell_type": "code",
      "metadata": {
        "id": "BK4jO1LcRqaS"
      },
      "source": [
        "def u(n):\n",
        "  return 2*n**2-n+1\n",
        "print(u(5))"
      ],
      "execution_count": null,
      "outputs": []
    },
    {
      "cell_type": "markdown",
      "metadata": {
        "id": "pt7FltT9P_hN"
      },
      "source": [
        "A toi de jouer !\n",
        "\n",
        "> *Exemple 2* On considère la suite définie pour tout entier naturel $n$ par $v_n=9n^2-2n+3$\n",
        "> Créer la fonction Python `v(n)` qui calcule $v_n$ et affiche $v_{10}$\n",
        "\n"
      ]
    },
    {
      "cell_type": "code",
      "metadata": {
        "id": "Gkl4UrcEQbby"
      },
      "source": [
        "def v(n):"
      ],
      "execution_count": null,
      "outputs": []
    },
    {
      "cell_type": "markdown",
      "metadata": {
        "id": "aala7q2IPif4"
      },
      "source": [
        "# Listes\n",
        "Pour éviter de calculer un par un les termes, on peut créer une liste en Python.\n",
        "\n",
        "> *Exemple 1* On souhaite collecter $u_0, u_1, u_2, ..., u_{99}$ dans une liste U :"
      ]
    },
    {
      "cell_type": "code",
      "metadata": {
        "id": "vJKIsY6MQ-Gy"
      },
      "source": [
        "U = [u(n) for n in range(100)]\n",
        "print(U)"
      ],
      "execution_count": null,
      "outputs": []
    },
    {
      "cell_type": "markdown",
      "metadata": {
        "id": "r7GyugrcQd7B"
      },
      "source": [
        "Note bien que la fonction `u` est écrite en minuscule tandis que le nom de la liste est en majuscule. On dit que Python est *case sensitive*, c'est-à-dire que u$\\neq$U.\n",
        "> *Exemple 2* Collecte $v_0, v_1, v_2, ..., v_{9}$ dans `V`et affiche la liste `V`\n"
      ]
    },
    {
      "cell_type": "code",
      "metadata": {
        "id": "7w1y-7hARi5G"
      },
      "source": [
        "V =\n",
        "print(V)"
      ],
      "execution_count": null,
      "outputs": []
    },
    {
      "cell_type": "markdown",
      "metadata": {
        "id": "uNE2L-69R7G9"
      },
      "source": [
        "# Graphique\n",
        "Pour afficher la représentation graphique d'une suite, on se sert de la bibliothèque `matplot_lib`\n",
        "\n",
        "On passe en arguments du graphe la liste des abscisses et la liste des ordonnées.\n",
        "\n",
        "> *Exemple 1* On affiche le graphe des 10 premiers termes de $(u_n)$\n"
      ]
    },
    {
      "cell_type": "code",
      "metadata": {
        "colab": {
          "base_uri": "https://localhost:8080/",
          "height": 267
        },
        "id": "NjMhUhKlSStj",
        "outputId": "8ab9b8a9-97db-478f-cd56-4fd15492592b"
      },
      "source": [
        "import matplotlib.pyplot as plt\n",
        "x = [n for n in range(10)]\n",
        "U = [u(n) for n in range(10)]\n",
        "plt.scatter(x,U)\n",
        "plt.show()\n"
      ],
      "execution_count": 5,
      "outputs": [
        {
          "output_type": "display_data",
          "data": {
            "image/png": "[encoded data removed]",
            "text/plain": [
              "<Figure size 432x288 with 1 Axes>"
            ]
          },
          "metadata": {
            "needs_background": "light"
          }
        }
      ]
    },
    {
      "cell_type": "markdown",
      "metadata": {
        "id": "29Rv-JiRSzsK"
      },
      "source": [
        "> *Exemple 2* Affiche le graphe des 10 premiers termes de $(v_n)$\n"
      ]
    },
    {
      "cell_type": "code",
      "metadata": {
        "id": "1ylb5m-XTCKu"
      },
      "source": [
        ""
      ],
      "execution_count": null,
      "outputs": []
    },
    {
      "cell_type": "markdown",
      "metadata": {
        "id": "8XvHV6SYTiBa"
      },
      "source": [
        "# Exercice\n",
        "Soit $(w_n)$ la suite définie par $w_0=3$ et pour tout entier naturel $n, w_{n+1}=2w_n-4$.\n",
        "\n",
        "Ecris un script Python qui permette de :\n",
        "1.   Calculer $w_n$ (demande de l'aide si nécessaire)\n",
        "2.   Remplir la liste `W` contenant les 10 premiers termes de la suite $(w_n)$\n",
        "3. Afficher le graphe de la suite $(w_n)$\n",
        "\n"
      ]
    },
    {
      "cell_type": "code",
      "metadata": {
        "id": "F3XNDelWULkG"
      },
      "source": [
        ""
      ],
      "execution_count": null,
      "outputs": []
    },
    {
      "cell_type": "markdown",
      "metadata": {
        "id": "g7hwr7zWTF_I"
      },
      "source": [
        "**Retour ClassCraft** : clic-droit sur ton graphe, copier l'adresse de l'image et colle l'URL dans \"A+ Travail\".\n",
        "\n",
        "Une fois que tu as fini cela, tu peux avancer sur d'autres quêtes.\n",
        "\n"
      ]
    }
  ]
}