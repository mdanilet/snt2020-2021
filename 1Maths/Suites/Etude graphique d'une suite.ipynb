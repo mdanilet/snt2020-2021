{
 "cells": [
  {
   "cell_type": "markdown",
   "metadata": {},
   "source": [
    "# Etude graphique d'une suite\n",
    "## Premiers pas\n"
   ]
  },
  {
   "cell_type": "markdown",
   "metadata": {},
   "source": [
    "Complétez le code pour que la fonction $(u_n)$ renvoie le nème terme de la suite définie pour tout entier n par $u_n=3n+1$"
   ]
  },
  {
   "cell_type": "code",
   "execution_count": 2,
   "metadata": {},
   "outputs": [],
   "source": [
    "def u(n):\n",
    "    return "
   ]
  },
  {
   "cell_type": "markdown",
   "metadata": {},
   "source": [
    "Une fois le code complété, lancez une ligne de commande pour afficher $u_{49}$."
   ]
  },
  {
   "cell_type": "code",
   "execution_count": null,
   "metadata": {},
   "outputs": [],
   "source": []
  },
  {
   "cell_type": "markdown",
   "metadata": {},
   "source": [
    "Nous allons maintenant lancer une représentation graphique de la suite pour $a<=n<=b$, grâce à $matplotlib$.\n",
    "Sachant que $range(a,b)$ représente la liste ordonnée des entiers de l'intervalle $[a;b[$, corriger la ligne 7 puis modifiez la dernière ligne pour afficher les 10 premiers termes. Lancez le programme."
   ]
  },
  {
   "cell_type": "code",
   "execution_count": null,
   "metadata": {},
   "outputs": [],
   "source": [
    "import matplotlib.pyplot as plt\n",
    "def u(n):\n",
    "    return 3*n+1\n",
    "def courbe(a,b):\n",
    "    X = []\n",
    "    Y = []\n",
    "    for k in range(a,b):\n",
    "        X.append(k)\n",
    "        Y.append(u(k))\n",
    "    plt.scatter(X,Y, c=\"red\")\n",
    "courbe()"
   ]
  }
 ],
 "metadata": {
  "kernelspec": {
   "display_name": "Python 3",
   "language": "python",
   "name": "python3"
  },
  "language_info": {
   "codemirror_mode": {
    "name": "ipython",
    "version": 3
   },
   "file_extension": ".py",
   "mimetype": "text/x-python",
   "name": "python",
   "nbconvert_exporter": "python",
   "pygments_lexer": "ipython3",
   "version": "3.7.6"
  }
 },
 "nbformat": 4,
 "nbformat_minor": 4
}
