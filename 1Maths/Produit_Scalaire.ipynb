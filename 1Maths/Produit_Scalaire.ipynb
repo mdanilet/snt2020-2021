{
  "nbformat": 4,
  "nbformat_minor": 0,
  "metadata": {
    "colab": {
      "name": "Produit Scalaire",
      "provenance": [],
      "collapsed_sections": [],
      "authorship_tag": "ABX9TyPHikCpZN8S2YbODqHl2alA"
    },
    "kernelspec": {
      "name": "python3",
      "display_name": "Python 3"
    },
    "language_info": {
      "name": "python"
    }
  },
  "cells": [
    {
      "cell_type": "markdown",
      "source": [
        "# IMPORTANT\n",
        "Pour pouvoir utiliser `pi` et `cos`, lancez cette ligne avant toute chose !"
      ],
      "metadata": {
        "id": "mCr9FLwLoySi"
      }
    },
    {
      "cell_type": "code",
      "source": [
        "from math import *"
      ],
      "metadata": {
        "id": "WHW_Rho7fpwx"
      },
      "execution_count": 5,
      "outputs": []
    },
    {
      "cell_type": "markdown",
      "source": [
        "# Formule trigonométrique\n",
        "`ps_trigo(u,v,a)`\tRenvoie le produit scalaire des vecteurs de norme `u`, `v` et formant un angle de `a` radians (Python est en radians par défaut)"
      ],
      "metadata": {
        "id": "qgeub7xtfR26"
      }
    },
    {
      "cell_type": "code",
      "execution_count": 1,
      "metadata": {
        "id": "aIX1mzFQfOcc"
      },
      "outputs": [],
      "source": [
        "def ps_trigo(u,v,a):\n",
        "  return u*v*cos(a)"
      ]
    },
    {
      "cell_type": "markdown",
      "source": [
        "Exemple : Calculer $\\vec{u}⋅\\vec{v}$ avec $||\\vec{u}||=3$, $||\\vec{v}||=4$ et $(\\vec{u},\\vec{v})=\\frac {\\pi}{3}$"
      ],
      "metadata": {
        "id": "SEI9DCT0f2oC"
      }
    },
    {
      "cell_type": "code",
      "source": [
        "ps_trigo(3,4,pi/3)"
      ],
      "metadata": {
        "id": "jLQoKO1QflcY"
      },
      "execution_count": null,
      "outputs": []
    },
    {
      "cell_type": "markdown",
      "source": [
        "# Formule dans le triangle\n",
        "`ps_triangle(a,b,c)`\tRenvoie le produit scalaire $\\vec{CB}⋅\\vec{CA}$ avec $a=CB$, $b=CA$, $c=AB$.\n",
        "\n",
        "Aide : $a^2$ s'écrit `a**2` en Python"
      ],
      "metadata": {
        "id": "rVD3ju7wgx_B"
      }
    },
    {
      "cell_type": "code",
      "source": [
        "def ps_triangle(a,b,c):\n",
        "  return"
      ],
      "metadata": {
        "id": "qs5R_attoMFa"
      },
      "execution_count": null,
      "outputs": []
    },
    {
      "cell_type": "markdown",
      "source": [
        "Exemple : Calculer $\\vec{AB}⋅\\vec{AC}$ avec $AB=3$, $AC=4$ et $BC=5$"
      ],
      "metadata": {
        "id": "o_4J-Gk6oMXe"
      }
    },
    {
      "cell_type": "code",
      "source": [
        "ps_triangle()"
      ],
      "metadata": {
        "id": "tMuujyCqoV9N"
      },
      "execution_count": null,
      "outputs": []
    },
    {
      "cell_type": "markdown",
      "source": [
        "# Vecteurs colinéaires\n",
        "`ps_colin(u,v,sens)`\tRenvoie le produit scalaire des vecteurs colinéaires de norme `u` et `v`, et de sens `sens` (`1` pour « de même sens », `-1` pour « de sens contraire »)"
      ],
      "metadata": {
        "id": "912VsWjIg4kF"
      }
    },
    {
      "cell_type": "code",
      "source": [
        ""
      ],
      "metadata": {
        "id": "VIp96XmvP7ZY"
      },
      "execution_count": null,
      "outputs": []
    },
    {
      "cell_type": "code",
      "source": [
        ""
      ],
      "metadata": {
        "id": "GRxro1Iqg9tp"
      },
      "execution_count": null,
      "outputs": []
    },
    {
      "cell_type": "markdown",
      "source": [
        "Exemple : Calculer $\\vec{u}⋅\\vec{v}$ avec $||\\vec{u}||=3$, $||\\vec{v}||=4$ et $\\vec{u}$ et $\\vec{v}$ de sens contraire."
      ],
      "metadata": {
        "id": "lk0e2WIEoZtT"
      }
    },
    {
      "cell_type": "code",
      "source": [
        ""
      ],
      "metadata": {
        "id": "FOjWss3Boilt"
      },
      "execution_count": null,
      "outputs": []
    },
    {
      "cell_type": "markdown",
      "source": [
        "# Formule avec les coordonnées\n",
        "`ps_coord(x1,y1,x2,y2)`\tRenvoie le produit scalaire des vecteurs de coordonnées `(x1;y1)` et `(x2;y2)`"
      ],
      "metadata": {
        "id": "VEob49GchKcL"
      }
    },
    {
      "cell_type": "code",
      "source": [
        ""
      ],
      "metadata": {
        "id": "kQE123NPolKI"
      },
      "execution_count": null,
      "outputs": []
    },
    {
      "cell_type": "markdown",
      "source": [
        "Exemple : Calculer $\\vec{u}⋅\\vec{v}$ avec $\\vec{u}(5;-2)$, $\\vec{v}(-4;-5)$ "
      ],
      "metadata": {
        "id": "Tvr5SYBKolht"
      }
    },
    {
      "cell_type": "code",
      "source": [
        ""
      ],
      "metadata": {
        "id": "GYCzJKG8oxCK"
      },
      "execution_count": null,
      "outputs": []
    },
    {
      "cell_type": "markdown",
      "source": [
        "**N'oublie pas de sauvegarder ton script : Fichier > Exporter comme Script Exécutable**"
      ],
      "metadata": {
        "id": "RZosC_yPCa6S"
      }
    }
  ]
}